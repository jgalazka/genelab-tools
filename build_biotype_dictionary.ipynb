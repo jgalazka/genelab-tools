{
  "nbformat": 4,
  "nbformat_minor": 5,
  "metadata": {
    "kernelspec": {
      "display_name": "Python 3",
      "language": "python",
      "name": "python3"
    },
    "language_info": {
      "codemirror_mode": {
        "name": "ipython",
        "version": 3
      },
      "file_extension": ".py",
      "mimetype": "text/x-python",
      "name": "python",
      "nbconvert_exporter": "python",
      "pygments_lexer": "ipython3",
      "version": "3.9.1"
    },
    "colab": {
      "name": "GetRnaGenes.ipynb",
      "provenance": [],
      "include_colab_link": true
    }
  },
  "cells": [
    {
      "cell_type": "markdown",
      "metadata": {
        "id": "view-in-github",
        "colab_type": "text"
      },
      "source": [
        "<a href=\"https://colab.research.google.com/github/jgalazka/genelab-tools/blob/main/build_biotype_dictionary.ipynb\" target=\"_parent\"><img src=\"https://colab.research.google.com/assets/colab-badge.svg\" alt=\"Open In Colab\"/></a>"
      ]
    },
    {
      "cell_type": "code",
      "metadata": {
        "id": "dc5c591d"
      },
      "source": [
        "import pandas as pd\n",
        "import re\n",
        "import json"
      ],
      "id": "dc5c591d",
      "execution_count": 1,
      "outputs": []
    },
    {
      "cell_type": "code",
      "metadata": {
        "colab": {
          "base_uri": "https://localhost:8080/"
        },
        "id": "-1V0bEFwpNbj",
        "outputId": "e27b4b33-81dd-4bc1-9269-189f04189735"
      },
      "source": [
        "!wget http://ftp.ensembl.org/pub/release-96/gtf/mus_musculus/Mus_musculus.GRCm38.96.gtf.gz"
      ],
      "id": "-1V0bEFwpNbj",
      "execution_count": 2,
      "outputs": [
        {
          "output_type": "stream",
          "text": [
            "--2021-08-02 20:57:19--  http://ftp.ensembl.org/pub/release-96/gtf/mus_musculus/Mus_musculus.GRCm38.96.gtf.gz\n",
            "Resolving ftp.ensembl.org (ftp.ensembl.org)... 193.62.197.76\n",
            "Connecting to ftp.ensembl.org (ftp.ensembl.org)|193.62.197.76|:80... connected.\n",
            "HTTP request sent, awaiting response... 200 OK\n",
            "Length: 30085756 (29M) [application/octet-stream]\n",
            "Saving to: ‘Mus_musculus.GRCm38.96.gtf.gz’\n",
            "\n",
            "Mus_musculus.GRCm38 100%[===================>]  28.69M   826KB/s    in 37s     \n",
            "\n",
            "2021-08-02 20:57:57 (788 KB/s) - ‘Mus_musculus.GRCm38.96.gtf.gz’ saved [30085756/30085756]\n",
            "\n"
          ],
          "name": "stdout"
        }
      ]
    },
    {
      "cell_type": "code",
      "metadata": {
        "colab": {
          "base_uri": "https://localhost:8080/",
          "height": 204
        },
        "id": "c284bd98",
        "outputId": "2fb77d15-70ef-4a17-9cd7-0126193b2595"
      },
      "source": [
        "gtf = pd.read_csv('Mus_musculus.GRCm38.96.gtf.gz', sep='\\t', skiprows=5, header=None, low_memory=False)\n",
        "gtf.columns = ['seqname', 'source', 'feature', 'start', 'end', 'score', 'strand', 'frame', 'attribute']\n",
        "gtf.head()"
      ],
      "id": "c284bd98",
      "execution_count": 2,
      "outputs": [
        {
          "output_type": "execute_result",
          "data": {
            "text/html": [
              "<div>\n",
              "<style scoped>\n",
              "    .dataframe tbody tr th:only-of-type {\n",
              "        vertical-align: middle;\n",
              "    }\n",
              "\n",
              "    .dataframe tbody tr th {\n",
              "        vertical-align: top;\n",
              "    }\n",
              "\n",
              "    .dataframe thead th {\n",
              "        text-align: right;\n",
              "    }\n",
              "</style>\n",
              "<table border=\"1\" class=\"dataframe\">\n",
              "  <thead>\n",
              "    <tr style=\"text-align: right;\">\n",
              "      <th></th>\n",
              "      <th>seqname</th>\n",
              "      <th>source</th>\n",
              "      <th>feature</th>\n",
              "      <th>start</th>\n",
              "      <th>end</th>\n",
              "      <th>score</th>\n",
              "      <th>strand</th>\n",
              "      <th>frame</th>\n",
              "      <th>attribute</th>\n",
              "    </tr>\n",
              "  </thead>\n",
              "  <tbody>\n",
              "    <tr>\n",
              "      <th>0</th>\n",
              "      <td>1</td>\n",
              "      <td>havana</td>\n",
              "      <td>gene</td>\n",
              "      <td>3073253</td>\n",
              "      <td>3074322</td>\n",
              "      <td>.</td>\n",
              "      <td>+</td>\n",
              "      <td>.</td>\n",
              "      <td>gene_id \"ENSMUSG00000102693\"; gene_version \"1\"...</td>\n",
              "    </tr>\n",
              "    <tr>\n",
              "      <th>1</th>\n",
              "      <td>1</td>\n",
              "      <td>havana</td>\n",
              "      <td>transcript</td>\n",
              "      <td>3073253</td>\n",
              "      <td>3074322</td>\n",
              "      <td>.</td>\n",
              "      <td>+</td>\n",
              "      <td>.</td>\n",
              "      <td>gene_id \"ENSMUSG00000102693\"; gene_version \"1\"...</td>\n",
              "    </tr>\n",
              "    <tr>\n",
              "      <th>2</th>\n",
              "      <td>1</td>\n",
              "      <td>havana</td>\n",
              "      <td>exon</td>\n",
              "      <td>3073253</td>\n",
              "      <td>3074322</td>\n",
              "      <td>.</td>\n",
              "      <td>+</td>\n",
              "      <td>.</td>\n",
              "      <td>gene_id \"ENSMUSG00000102693\"; gene_version \"1\"...</td>\n",
              "    </tr>\n",
              "    <tr>\n",
              "      <th>3</th>\n",
              "      <td>1</td>\n",
              "      <td>ensembl</td>\n",
              "      <td>gene</td>\n",
              "      <td>3102016</td>\n",
              "      <td>3102125</td>\n",
              "      <td>.</td>\n",
              "      <td>+</td>\n",
              "      <td>.</td>\n",
              "      <td>gene_id \"ENSMUSG00000064842\"; gene_version \"1\"...</td>\n",
              "    </tr>\n",
              "    <tr>\n",
              "      <th>4</th>\n",
              "      <td>1</td>\n",
              "      <td>ensembl</td>\n",
              "      <td>transcript</td>\n",
              "      <td>3102016</td>\n",
              "      <td>3102125</td>\n",
              "      <td>.</td>\n",
              "      <td>+</td>\n",
              "      <td>.</td>\n",
              "      <td>gene_id \"ENSMUSG00000064842\"; gene_version \"1\"...</td>\n",
              "    </tr>\n",
              "  </tbody>\n",
              "</table>\n",
              "</div>"
            ],
            "text/plain": [
              "  seqname   source  ... frame                                          attribute\n",
              "0       1   havana  ...     .  gene_id \"ENSMUSG00000102693\"; gene_version \"1\"...\n",
              "1       1   havana  ...     .  gene_id \"ENSMUSG00000102693\"; gene_version \"1\"...\n",
              "2       1   havana  ...     .  gene_id \"ENSMUSG00000102693\"; gene_version \"1\"...\n",
              "3       1  ensembl  ...     .  gene_id \"ENSMUSG00000064842\"; gene_version \"1\"...\n",
              "4       1  ensembl  ...     .  gene_id \"ENSMUSG00000064842\"; gene_version \"1\"...\n",
              "\n",
              "[5 rows x 9 columns]"
            ]
          },
          "metadata": {
            "tags": []
          },
          "execution_count": 2
        }
      ]
    },
    {
      "cell_type": "code",
      "metadata": {
        "id": "041f6914"
      },
      "source": [
        "gene_biotype = gtf['attribute'].str.extract(r'gene_biotype \\\"(\\w+)\\\"')\n",
        "gtf['gene_biotype'] = gene_biotype"
      ],
      "id": "041f6914",
      "execution_count": 3,
      "outputs": []
    },
    {
      "cell_type": "code",
      "metadata": {
        "id": "bdd6c920"
      },
      "source": [
        "gene_id = gtf['attribute'].str.extract(r'gene_id \\\"(ENSMUSG\\d+)\\\"')\n",
        "gtf['gene_id'] = gene_id"
      ],
      "id": "bdd6c920",
      "execution_count": 4,
      "outputs": []
    },
    {
      "cell_type": "code",
      "metadata": {
        "colab": {
          "base_uri": "https://localhost:8080/",
          "height": 394
        },
        "id": "6687abce",
        "outputId": "2ca4e27a-7933-4709-a3dd-aba6cb28edb8"
      },
      "source": [
        "gtf.head()"
      ],
      "id": "6687abce",
      "execution_count": 5,
      "outputs": [
        {
          "output_type": "execute_result",
          "data": {
            "text/html": [
              "<div>\n",
              "<style scoped>\n",
              "    .dataframe tbody tr th:only-of-type {\n",
              "        vertical-align: middle;\n",
              "    }\n",
              "\n",
              "    .dataframe tbody tr th {\n",
              "        vertical-align: top;\n",
              "    }\n",
              "\n",
              "    .dataframe thead th {\n",
              "        text-align: right;\n",
              "    }\n",
              "</style>\n",
              "<table border=\"1\" class=\"dataframe\">\n",
              "  <thead>\n",
              "    <tr style=\"text-align: right;\">\n",
              "      <th></th>\n",
              "      <th>seqname</th>\n",
              "      <th>source</th>\n",
              "      <th>feature</th>\n",
              "      <th>start</th>\n",
              "      <th>end</th>\n",
              "      <th>score</th>\n",
              "      <th>strand</th>\n",
              "      <th>frame</th>\n",
              "      <th>attribute</th>\n",
              "      <th>gene_biotype</th>\n",
              "      <th>gene_id</th>\n",
              "    </tr>\n",
              "  </thead>\n",
              "  <tbody>\n",
              "    <tr>\n",
              "      <th>0</th>\n",
              "      <td>1</td>\n",
              "      <td>havana</td>\n",
              "      <td>gene</td>\n",
              "      <td>3073253</td>\n",
              "      <td>3074322</td>\n",
              "      <td>.</td>\n",
              "      <td>+</td>\n",
              "      <td>.</td>\n",
              "      <td>gene_id \"ENSMUSG00000102693\"; gene_version \"1\"...</td>\n",
              "      <td>TEC</td>\n",
              "      <td>ENSMUSG00000102693</td>\n",
              "    </tr>\n",
              "    <tr>\n",
              "      <th>1</th>\n",
              "      <td>1</td>\n",
              "      <td>havana</td>\n",
              "      <td>transcript</td>\n",
              "      <td>3073253</td>\n",
              "      <td>3074322</td>\n",
              "      <td>.</td>\n",
              "      <td>+</td>\n",
              "      <td>.</td>\n",
              "      <td>gene_id \"ENSMUSG00000102693\"; gene_version \"1\"...</td>\n",
              "      <td>TEC</td>\n",
              "      <td>ENSMUSG00000102693</td>\n",
              "    </tr>\n",
              "    <tr>\n",
              "      <th>2</th>\n",
              "      <td>1</td>\n",
              "      <td>havana</td>\n",
              "      <td>exon</td>\n",
              "      <td>3073253</td>\n",
              "      <td>3074322</td>\n",
              "      <td>.</td>\n",
              "      <td>+</td>\n",
              "      <td>.</td>\n",
              "      <td>gene_id \"ENSMUSG00000102693\"; gene_version \"1\"...</td>\n",
              "      <td>TEC</td>\n",
              "      <td>ENSMUSG00000102693</td>\n",
              "    </tr>\n",
              "    <tr>\n",
              "      <th>3</th>\n",
              "      <td>1</td>\n",
              "      <td>ensembl</td>\n",
              "      <td>gene</td>\n",
              "      <td>3102016</td>\n",
              "      <td>3102125</td>\n",
              "      <td>.</td>\n",
              "      <td>+</td>\n",
              "      <td>.</td>\n",
              "      <td>gene_id \"ENSMUSG00000064842\"; gene_version \"1\"...</td>\n",
              "      <td>snRNA</td>\n",
              "      <td>ENSMUSG00000064842</td>\n",
              "    </tr>\n",
              "    <tr>\n",
              "      <th>4</th>\n",
              "      <td>1</td>\n",
              "      <td>ensembl</td>\n",
              "      <td>transcript</td>\n",
              "      <td>3102016</td>\n",
              "      <td>3102125</td>\n",
              "      <td>.</td>\n",
              "      <td>+</td>\n",
              "      <td>.</td>\n",
              "      <td>gene_id \"ENSMUSG00000064842\"; gene_version \"1\"...</td>\n",
              "      <td>snRNA</td>\n",
              "      <td>ENSMUSG00000064842</td>\n",
              "    </tr>\n",
              "  </tbody>\n",
              "</table>\n",
              "</div>"
            ],
            "text/plain": [
              "  seqname   source  ... gene_biotype             gene_id\n",
              "0       1   havana  ...          TEC  ENSMUSG00000102693\n",
              "1       1   havana  ...          TEC  ENSMUSG00000102693\n",
              "2       1   havana  ...          TEC  ENSMUSG00000102693\n",
              "3       1  ensembl  ...        snRNA  ENSMUSG00000064842\n",
              "4       1  ensembl  ...        snRNA  ENSMUSG00000064842\n",
              "\n",
              "[5 rows x 11 columns]"
            ]
          },
          "metadata": {
            "tags": []
          },
          "execution_count": 5
        }
      ]
    },
    {
      "cell_type": "code",
      "metadata": {
        "colab": {
          "base_uri": "https://localhost:8080/",
          "height": 204
        },
        "id": "518587af",
        "outputId": "63a508af-951c-4655-c97f-2545065ac115"
      },
      "source": [
        "id_biotype = gtf[['gene_biotype','gene_id']]\n",
        "id_biotype.head()"
      ],
      "id": "518587af",
      "execution_count": 6,
      "outputs": [
        {
          "output_type": "execute_result",
          "data": {
            "text/html": [
              "<div>\n",
              "<style scoped>\n",
              "    .dataframe tbody tr th:only-of-type {\n",
              "        vertical-align: middle;\n",
              "    }\n",
              "\n",
              "    .dataframe tbody tr th {\n",
              "        vertical-align: top;\n",
              "    }\n",
              "\n",
              "    .dataframe thead th {\n",
              "        text-align: right;\n",
              "    }\n",
              "</style>\n",
              "<table border=\"1\" class=\"dataframe\">\n",
              "  <thead>\n",
              "    <tr style=\"text-align: right;\">\n",
              "      <th></th>\n",
              "      <th>gene_biotype</th>\n",
              "      <th>gene_id</th>\n",
              "    </tr>\n",
              "  </thead>\n",
              "  <tbody>\n",
              "    <tr>\n",
              "      <th>0</th>\n",
              "      <td>TEC</td>\n",
              "      <td>ENSMUSG00000102693</td>\n",
              "    </tr>\n",
              "    <tr>\n",
              "      <th>1</th>\n",
              "      <td>TEC</td>\n",
              "      <td>ENSMUSG00000102693</td>\n",
              "    </tr>\n",
              "    <tr>\n",
              "      <th>2</th>\n",
              "      <td>TEC</td>\n",
              "      <td>ENSMUSG00000102693</td>\n",
              "    </tr>\n",
              "    <tr>\n",
              "      <th>3</th>\n",
              "      <td>snRNA</td>\n",
              "      <td>ENSMUSG00000064842</td>\n",
              "    </tr>\n",
              "    <tr>\n",
              "      <th>4</th>\n",
              "      <td>snRNA</td>\n",
              "      <td>ENSMUSG00000064842</td>\n",
              "    </tr>\n",
              "  </tbody>\n",
              "</table>\n",
              "</div>"
            ],
            "text/plain": [
              "  gene_biotype             gene_id\n",
              "0          TEC  ENSMUSG00000102693\n",
              "1          TEC  ENSMUSG00000102693\n",
              "2          TEC  ENSMUSG00000102693\n",
              "3        snRNA  ENSMUSG00000064842\n",
              "4        snRNA  ENSMUSG00000064842"
            ]
          },
          "metadata": {
            "tags": []
          },
          "execution_count": 6
        }
      ]
    },
    {
      "cell_type": "code",
      "metadata": {
        "id": "0f7b720c"
      },
      "source": [
        "# build dictionary linking gene id to biotype\n",
        "id_biotype_dict = dict(zip(id_biotype.gene_id,id_biotype.gene_biotype))"
      ],
      "id": "0f7b720c",
      "execution_count": 7,
      "outputs": []
    },
    {
      "cell_type": "code",
      "metadata": {
        "id": "2e85d1dc"
      },
      "source": [
        "json = json.dumps(id_biotype_dict)"
      ],
      "id": "2e85d1dc",
      "execution_count": 8,
      "outputs": []
    },
    {
      "cell_type": "code",
      "metadata": {
        "id": "8c0e02d1"
      },
      "source": [
        "# export dictionary\n",
        "f = open(\"id2biotype.json\",\"w\")\n",
        "f.write(json)\n",
        "f.close()"
      ],
      "id": "8c0e02d1",
      "execution_count": 9,
      "outputs": []
    },
    {
      "cell_type": "code",
      "metadata": {
        "colab": {
          "base_uri": "https://localhost:8080/",
          "height": 37
        },
        "id": "b625c7d7",
        "outputId": "3de22f5a-41a9-4338-f873-f300f655b9b3"
      },
      "source": [
        "# test dictionary\n",
        "id_biotype_dict['ENSMUSG00000102693']"
      ],
      "id": "b625c7d7",
      "execution_count": 10,
      "outputs": [
        {
          "output_type": "execute_result",
          "data": {
            "application/vnd.google.colaboratory.intrinsic+json": {
              "type": "string"
            },
            "text/plain": [
              "'TEC'"
            ]
          },
          "metadata": {
            "tags": []
          },
          "execution_count": 10
        }
      ]
    },
    {
      "cell_type": "code",
      "metadata": {
        "colab": {
          "base_uri": "https://localhost:8080/"
        },
        "id": "b3f8c3b6",
        "outputId": "501d84e2-c3e2-4841-fc2a-c6ddab0de41e"
      },
      "source": [
        "# check number or rRNA genes\n",
        "len([k for k,v in id_biotype_dict.items() if v == 'rRNA'])"
      ],
      "id": "b3f8c3b6",
      "execution_count": 11,
      "outputs": [
        {
          "output_type": "execute_result",
          "data": {
            "text/plain": [
              "354"
            ]
          },
          "metadata": {
            "tags": []
          },
          "execution_count": 11
        }
      ]
    }
  ]
}